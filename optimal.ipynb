{
 "cells": [
  {
   "cell_type": "code",
   "execution_count": null,
   "id": "55e67f9c",
   "metadata": {},
   "outputs": [],
   "source": [
    "###########################\n",
    "# Project 6\n",
    "# ESE 572\n",
    "# Optimal Routing\n",
    "###########################\n",
    "\n",
    "import numpy as np\n",
    "import math\n",
    "import networkx as nx\n",
    "import matplotlib.pyplot as plt\n"
   ]
  },
  {
   "cell_type": "code",
   "execution_count": null,
   "id": "add68d20",
   "metadata": {},
   "outputs": [],
   "source": [
    "# For the network given below, the goal of this project is to develop a routing assignment that \n",
    "# optimizes the delay in the network.\n",
    "\n",
    "# Problem Assumptions\n",
    "#     1. For each link, the delay is assumed to be M/M/1\n",
    "#     2. All traffic flows in the network, other than the one from node A to node B, have already been routed.  \n",
    "#        Your problem is to determine the routing assignment for the remaining traffic flow from node A to node B.\n",
    "#     3. The numbers shown in the network (without parenthesis) are the average delays for individual links \n",
    "#        before the traffic from node A to node B is routed\n",
    "#     4. The numbers shown inside the parentheses are the link capacities.\n",
    "\n",
    "\n",
    "# First, identify three best candidate routes from node A to node B.  This is not meant to be based on any \n",
    "# mathematical reasons – just pick three routes that your group believes to be reasonable and explain why these \n",
    "# routes have been chosen.  Then, distribute the 5 units of flow from node A to node B, shown in the figure as \n",
    "# r = 5, to among the three candidate routes, which optimize the overall delay in the network"
   ]
  }
 ],
 "metadata": {
  "kernelspec": {
   "display_name": "Python 3",
   "language": "python",
   "name": "python3"
  },
  "language_info": {
   "codemirror_mode": {
    "name": "ipython",
    "version": 3
   },
   "file_extension": ".py",
   "mimetype": "text/x-python",
   "name": "python",
   "nbconvert_exporter": "python",
   "pygments_lexer": "ipython3",
   "version": "3.8.8"
  }
 },
 "nbformat": 4,
 "nbformat_minor": 5
}
